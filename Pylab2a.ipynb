{
 "cells": [
  {
   "cell_type": "code",
   "execution_count": 8,
   "id": "3c18c2d8-7505-4529-a745-a21573a1c192",
   "metadata": {
    "tags": []
   },
   "outputs": [
    {
     "name": "stdout",
     "output_type": "stream",
     "text": [
      "-80222.36943767425 , 0.0\n"
     ]
    }
   ],
   "source": [
    "#1 sample t-test\n",
    "import scipy.stats as stats\n",
    "import pandas as pd\n",
    "data=pd.read_csv('iris.csv')\n",
    "n_data=data['PetalWidthCm']\n",
    "t_stats,p_val=stats.ttest_1samp(a=n_data,popmean=5000)\n",
    "print(t_stats,\",\",p_val)"
   ]
  },
  {
   "cell_type": "code",
   "execution_count": 13,
   "id": "a1914da3-a59c-42ef-a1e2-2dbddeff9e7c",
   "metadata": {
    "tags": []
   },
   "outputs": [
    {
     "data": {
      "text/plain": [
       "TtestResult(statistic=-25.888343902566806, pvalue=3.1096264934749126e-78, df=298.0)"
      ]
     },
     "execution_count": 13,
     "metadata": {},
     "output_type": "execute_result"
    }
   ],
   "source": [
    "#2 independent sample t-test\n",
    "import numpy as np\n",
    "data_grp1=np.array(data['PetalWidthCm'])\n",
    "data_grp2=np.array(data['SepalWidthCm'])\n",
    "stats.ttest_ind(a=data_grp1,b=data_grp2,equal_var=True)"
   ]
  }
 ],
 "metadata": {
  "kernelspec": {
   "display_name": "Python 3 (ipykernel)",
   "language": "python",
   "name": "python3"
  },
  "language_info": {
   "codemirror_mode": {
    "name": "ipython",
    "version": 3
   },
   "file_extension": ".py",
   "mimetype": "text/x-python",
   "name": "python",
   "nbconvert_exporter": "python",
   "pygments_lexer": "ipython3",
   "version": "3.11.5"
  }
 },
 "nbformat": 4,
 "nbformat_minor": 5
}
