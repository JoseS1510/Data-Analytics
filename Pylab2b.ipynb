{
 "cells": [
  {
   "cell_type": "code",
   "execution_count": 4,
   "id": "272fa3df-5977-4609-af94-871173fcd454",
   "metadata": {
    "tags": []
   },
   "outputs": [
    {
     "data": {
      "text/plain": [
       "F_onewayResult(statistic=483.57128302425997, pvalue=3.4996987081933735e-159)"
      ]
     },
     "execution_count": 4,
     "metadata": {},
     "output_type": "execute_result"
    }
   ],
   "source": [
    "#Anova\n",
    "import numpy as np\n",
    "import pandas as pd\n",
    "from scipy.stats import f_oneway\n",
    "data=pd.read_csv('iris.csv')\n",
    "perf1=data['SepalLengthCm']\n",
    "perf2=data['PetalLengthCm']\n",
    "perf3=data['SepalWidthCm']\n",
    "perf4=data['PetalWidthCm']\n",
    "f_oneway(perf1,perf2,perf3,perf4)"
   ]
  },
  {
   "cell_type": "code",
   "execution_count": 6,
   "id": "5be93b28-f957-4ae8-badb-1ea9e9652bfb",
   "metadata": {
    "tags": []
   },
   "outputs": [
    {
     "name": "stdout",
     "output_type": "stream",
     "text": [
      "p_value :  1.0\n",
      "Independant(HO holds true)\n"
     ]
    }
   ],
   "source": [
    "#chi-square\n",
    "\n",
    "from scipy.stats import chi2_contingency\n",
    "data1=[perf1,perf3]\n",
    "stat,p,dot,expected=chi2_contingency(data1)\n",
    "alpha=0.05\n",
    "print(\"p_value : \",p)\n",
    "if p<=alpha:\n",
    "    print(\"Dependant(reject HO)\")\n",
    "else:\n",
    "    print(\"Independant(HO holds true)\")"
   ]
  }
 ],
 "metadata": {
  "kernelspec": {
   "display_name": "Python 3 (ipykernel)",
   "language": "python",
   "name": "python3"
  },
  "language_info": {
   "codemirror_mode": {
    "name": "ipython",
    "version": 3
   },
   "file_extension": ".py",
   "mimetype": "text/x-python",
   "name": "python",
   "nbconvert_exporter": "python",
   "pygments_lexer": "ipython3",
   "version": "3.11.5"
  }
 },
 "nbformat": 4,
 "nbformat_minor": 5
}
